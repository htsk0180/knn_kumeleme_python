{
  "nbformat": 4,
  "nbformat_minor": 0,
  "metadata": {
    "colab": {
      "provenance": []
    },
    "kernelspec": {
      "name": "python3",
      "display_name": "Python 3"
    },
    "language_info": {
      "name": "python"
    }
  },
  "cells": [
    {
      "cell_type": "code",
      "execution_count": null,
      "metadata": {
        "colab": {
          "base_uri": "https://localhost:8080/",
          "height": 206
        },
        "id": "YzhPr3DjJ4Nj",
        "outputId": "483a556d-f1af-4ca5-8611-47fdfe524551"
      },
      "outputs": [
        {
          "output_type": "execute_result",
          "data": {
            "text/plain": [
              "         0         1         2         3         4         5         6   \\\n",
              "0  0.266074 -0.165620  0.320980  0.483299  0.172340  0.273364  0.371178   \n",
              "1  0.130292  0.870736 -3.210528  0.062493  0.261718  1.436060  1.465940   \n",
              "2 -0.116585  0.069915  0.068476 -0.783147  0.261718  0.439463 -0.081827   \n",
              "3  0.031541  0.297600 -3.210528 -0.583590 -0.721442 -0.307984  0.710932   \n",
              "4  0.229043  0.807926 -0.052442  0.082634  0.261718  0.148790  0.635431   \n",
              "\n",
              "         7         8         9  10  \n",
              "0  0.929823  0.251173  0.159345  A  \n",
              "1  0.636203  0.282354  0.515587  A  \n",
              "2 -0.888236 -0.123005  0.582939  A  \n",
              "3  1.051693  0.594169 -0.533994  A  \n",
              "4  0.051062  0.032902 -0.086652  F  "
            ],
            "text/html": [
              "\n",
              "  <div id=\"df-7be6d8c4-bcdd-40f4-9e55-ced4915440eb\">\n",
              "    <div class=\"colab-df-container\">\n",
              "      <div>\n",
              "<style scoped>\n",
              "    .dataframe tbody tr th:only-of-type {\n",
              "        vertical-align: middle;\n",
              "    }\n",
              "\n",
              "    .dataframe tbody tr th {\n",
              "        vertical-align: top;\n",
              "    }\n",
              "\n",
              "    .dataframe thead th {\n",
              "        text-align: right;\n",
              "    }\n",
              "</style>\n",
              "<table border=\"1\" class=\"dataframe\">\n",
              "  <thead>\n",
              "    <tr style=\"text-align: right;\">\n",
              "      <th></th>\n",
              "      <th>0</th>\n",
              "      <th>1</th>\n",
              "      <th>2</th>\n",
              "      <th>3</th>\n",
              "      <th>4</th>\n",
              "      <th>5</th>\n",
              "      <th>6</th>\n",
              "      <th>7</th>\n",
              "      <th>8</th>\n",
              "      <th>9</th>\n",
              "      <th>10</th>\n",
              "    </tr>\n",
              "  </thead>\n",
              "  <tbody>\n",
              "    <tr>\n",
              "      <th>0</th>\n",
              "      <td>0.266074</td>\n",
              "      <td>-0.165620</td>\n",
              "      <td>0.320980</td>\n",
              "      <td>0.483299</td>\n",
              "      <td>0.172340</td>\n",
              "      <td>0.273364</td>\n",
              "      <td>0.371178</td>\n",
              "      <td>0.929823</td>\n",
              "      <td>0.251173</td>\n",
              "      <td>0.159345</td>\n",
              "      <td>A</td>\n",
              "    </tr>\n",
              "    <tr>\n",
              "      <th>1</th>\n",
              "      <td>0.130292</td>\n",
              "      <td>0.870736</td>\n",
              "      <td>-3.210528</td>\n",
              "      <td>0.062493</td>\n",
              "      <td>0.261718</td>\n",
              "      <td>1.436060</td>\n",
              "      <td>1.465940</td>\n",
              "      <td>0.636203</td>\n",
              "      <td>0.282354</td>\n",
              "      <td>0.515587</td>\n",
              "      <td>A</td>\n",
              "    </tr>\n",
              "    <tr>\n",
              "      <th>2</th>\n",
              "      <td>-0.116585</td>\n",
              "      <td>0.069915</td>\n",
              "      <td>0.068476</td>\n",
              "      <td>-0.783147</td>\n",
              "      <td>0.261718</td>\n",
              "      <td>0.439463</td>\n",
              "      <td>-0.081827</td>\n",
              "      <td>-0.888236</td>\n",
              "      <td>-0.123005</td>\n",
              "      <td>0.582939</td>\n",
              "      <td>A</td>\n",
              "    </tr>\n",
              "    <tr>\n",
              "      <th>3</th>\n",
              "      <td>0.031541</td>\n",
              "      <td>0.297600</td>\n",
              "      <td>-3.210528</td>\n",
              "      <td>-0.583590</td>\n",
              "      <td>-0.721442</td>\n",
              "      <td>-0.307984</td>\n",
              "      <td>0.710932</td>\n",
              "      <td>1.051693</td>\n",
              "      <td>0.594169</td>\n",
              "      <td>-0.533994</td>\n",
              "      <td>A</td>\n",
              "    </tr>\n",
              "    <tr>\n",
              "      <th>4</th>\n",
              "      <td>0.229043</td>\n",
              "      <td>0.807926</td>\n",
              "      <td>-0.052442</td>\n",
              "      <td>0.082634</td>\n",
              "      <td>0.261718</td>\n",
              "      <td>0.148790</td>\n",
              "      <td>0.635431</td>\n",
              "      <td>0.051062</td>\n",
              "      <td>0.032902</td>\n",
              "      <td>-0.086652</td>\n",
              "      <td>F</td>\n",
              "    </tr>\n",
              "  </tbody>\n",
              "</table>\n",
              "</div>\n",
              "      <button class=\"colab-df-convert\" onclick=\"convertToInteractive('df-7be6d8c4-bcdd-40f4-9e55-ced4915440eb')\"\n",
              "              title=\"Convert this dataframe to an interactive table.\"\n",
              "              style=\"display:none;\">\n",
              "        \n",
              "  <svg xmlns=\"http://www.w3.org/2000/svg\" height=\"24px\"viewBox=\"0 0 24 24\"\n",
              "       width=\"24px\">\n",
              "    <path d=\"M0 0h24v24H0V0z\" fill=\"none\"/>\n",
              "    <path d=\"M18.56 5.44l.94 2.06.94-2.06 2.06-.94-2.06-.94-.94-2.06-.94 2.06-2.06.94zm-11 1L8.5 8.5l.94-2.06 2.06-.94-2.06-.94L8.5 2.5l-.94 2.06-2.06.94zm10 10l.94 2.06.94-2.06 2.06-.94-2.06-.94-.94-2.06-.94 2.06-2.06.94z\"/><path d=\"M17.41 7.96l-1.37-1.37c-.4-.4-.92-.59-1.43-.59-.52 0-1.04.2-1.43.59L10.3 9.45l-7.72 7.72c-.78.78-.78 2.05 0 2.83L4 21.41c.39.39.9.59 1.41.59.51 0 1.02-.2 1.41-.59l7.78-7.78 2.81-2.81c.8-.78.8-2.07 0-2.86zM5.41 20L4 18.59l7.72-7.72 1.47 1.35L5.41 20z\"/>\n",
              "  </svg>\n",
              "      </button>\n",
              "      \n",
              "  <style>\n",
              "    .colab-df-container {\n",
              "      display:flex;\n",
              "      flex-wrap:wrap;\n",
              "      gap: 12px;\n",
              "    }\n",
              "\n",
              "    .colab-df-convert {\n",
              "      background-color: #E8F0FE;\n",
              "      border: none;\n",
              "      border-radius: 50%;\n",
              "      cursor: pointer;\n",
              "      display: none;\n",
              "      fill: #1967D2;\n",
              "      height: 32px;\n",
              "      padding: 0 0 0 0;\n",
              "      width: 32px;\n",
              "    }\n",
              "\n",
              "    .colab-df-convert:hover {\n",
              "      background-color: #E2EBFA;\n",
              "      box-shadow: 0px 1px 2px rgba(60, 64, 67, 0.3), 0px 1px 3px 1px rgba(60, 64, 67, 0.15);\n",
              "      fill: #174EA6;\n",
              "    }\n",
              "\n",
              "    [theme=dark] .colab-df-convert {\n",
              "      background-color: #3B4455;\n",
              "      fill: #D2E3FC;\n",
              "    }\n",
              "\n",
              "    [theme=dark] .colab-df-convert:hover {\n",
              "      background-color: #434B5C;\n",
              "      box-shadow: 0px 1px 3px 1px rgba(0, 0, 0, 0.15);\n",
              "      filter: drop-shadow(0px 1px 2px rgba(0, 0, 0, 0.3));\n",
              "      fill: #FFFFFF;\n",
              "    }\n",
              "  </style>\n",
              "\n",
              "      <script>\n",
              "        const buttonEl =\n",
              "          document.querySelector('#df-7be6d8c4-bcdd-40f4-9e55-ced4915440eb button.colab-df-convert');\n",
              "        buttonEl.style.display =\n",
              "          google.colab.kernel.accessAllowed ? 'block' : 'none';\n",
              "\n",
              "        async function convertToInteractive(key) {\n",
              "          const element = document.querySelector('#df-7be6d8c4-bcdd-40f4-9e55-ced4915440eb');\n",
              "          const dataTable =\n",
              "            await google.colab.kernel.invokeFunction('convertToInteractive',\n",
              "                                                     [key], {});\n",
              "          if (!dataTable) return;\n",
              "\n",
              "          const docLinkHtml = 'Like what you see? Visit the ' +\n",
              "            '<a target=\"_blank\" href=https://colab.research.google.com/notebooks/data_table.ipynb>data table notebook</a>'\n",
              "            + ' to learn more about interactive tables.';\n",
              "          element.innerHTML = '';\n",
              "          dataTable['output_type'] = 'display_data';\n",
              "          await google.colab.output.renderOutput(dataTable, element);\n",
              "          const docLink = document.createElement('div');\n",
              "          docLink.innerHTML = docLinkHtml;\n",
              "          element.appendChild(docLink);\n",
              "        }\n",
              "      </script>\n",
              "    </div>\n",
              "  </div>\n",
              "  "
            ]
          },
          "metadata": {},
          "execution_count": 21
        }
      ],
      "source": [
        "\n",
        "import numpy as np\n",
        "import pandas as pd\n",
        "import matplotlib.pyplot as plt\n",
        "from sklearn.neighbors import KNeighborsClassifier\n",
        "from sklearn.model_selection import train_test_split\n",
        "from sklearn.metrics import confusion_matrix\n",
        "from sklearn.metrics import accuracy_score\n",
        "from sklearn.metrics import classification_report\n",
        "\n",
        "# read data on avila-tr.txt\n",
        "data = pd.read_csv('avila-tr.txt', header=None)\n",
        "data.head()"
      ]
    },
    {
      "cell_type": "code",
      "source": [
        "# split data\n",
        "X = data.iloc[:, 0:10]\n",
        "y = data.iloc[:, 10]\n",
        "\n",
        "print(X)\n",
        "print(y)"
      ],
      "metadata": {
        "colab": {
          "base_uri": "https://localhost:8080/"
        },
        "id": "Kokt-YLZKlE-",
        "outputId": "eea1d256-9815-4491-ba20-3fed6f826d5a"
      },
      "execution_count": null,
      "outputs": [
        {
          "output_type": "stream",
          "name": "stdout",
          "text": [
            "              0         1         2         3         4         5         6  \\\n",
            "0      0.266074 -0.165620  0.320980  0.483299  0.172340  0.273364  0.371178   \n",
            "1      0.130292  0.870736 -3.210528  0.062493  0.261718  1.436060  1.465940   \n",
            "2     -0.116585  0.069915  0.068476 -0.783147  0.261718  0.439463 -0.081827   \n",
            "3      0.031541  0.297600 -3.210528 -0.583590 -0.721442 -0.307984  0.710932   \n",
            "4      0.229043  0.807926 -0.052442  0.082634  0.261718  0.148790  0.635431   \n",
            "...         ...       ...       ...       ...       ...       ...       ...   \n",
            "10425  0.080916  0.588093  0.015130  0.002250  0.261718 -0.557133  0.371178   \n",
            "10426  0.253730 -0.338346  0.352988 -1.154243  0.172340 -0.557133  0.257927   \n",
            "10427  0.229043 -0.000745  0.171611 -0.002793  0.261718  0.688613  0.295677   \n",
            "10428 -0.301743  0.352558  0.288973  1.638181  0.261718  0.688613  0.069175   \n",
            "10429 -0.104241 -1.037102  0.388552 -1.099311  0.172340 -0.307984  0.786433   \n",
            "\n",
            "              7         8         9  \n",
            "0      0.929823  0.251173  0.159345  \n",
            "1      0.636203  0.282354  0.515587  \n",
            "2     -0.888236 -0.123005  0.582939  \n",
            "3      1.051693  0.594169 -0.533994  \n",
            "4      0.051062  0.032902 -0.086652  \n",
            "...         ...       ...       ...  \n",
            "10425  0.932346  0.282354 -0.580141  \n",
            "10426  0.348428  0.032902 -0.527134  \n",
            "10427 -1.088486 -0.590727  0.580142  \n",
            "10428  0.502761  0.625350  0.718969  \n",
            "10429 -1.337547  0.999528 -0.551063  \n",
            "\n",
            "[10430 rows x 10 columns]\n",
            "0        A\n",
            "1        A\n",
            "2        A\n",
            "3        A\n",
            "4        F\n",
            "        ..\n",
            "10425    F\n",
            "10426    F\n",
            "10427    A\n",
            "10428    E\n",
            "10429    X\n",
            "Name: 10, Length: 10430, dtype: object\n"
          ]
        }
      ]
    },
    {
      "cell_type": "code",
      "source": [
        "# split data to train and test\n",
        "X_train, X_test, y_train, y_test = train_test_split(X, y, test_size=0.2, random_state=0)"
      ],
      "metadata": {
        "id": "Cp50PGFQKu3V"
      },
      "execution_count": null,
      "outputs": []
    },
    {
      "cell_type": "code",
      "source": [
        "# knn model\n",
        "n_neighbors = input('n_neighbors sayısını giriniz: ')\n",
        "knn = KNeighborsClassifier(n_neighbors=5)\n",
        "knn.fit(X_train, y_train)"
      ],
      "metadata": {
        "colab": {
          "base_uri": "https://localhost:8080/"
        },
        "id": "7DAnshEeKy1W",
        "outputId": "68d34d08-8a1d-4899-d32b-cf6cc0dc71ac"
      },
      "execution_count": null,
      "outputs": [
        {
          "name": "stdout",
          "output_type": "stream",
          "text": [
            "n_neighbors sayısını giriniz: 4\n"
          ]
        },
        {
          "output_type": "execute_result",
          "data": {
            "text/plain": [
              "KNeighborsClassifier()"
            ]
          },
          "metadata": {},
          "execution_count": 24
        }
      ]
    },
    {
      "cell_type": "code",
      "source": [
        "# predict\n",
        "y_pred = knn.predict(X_test)\n"
      ],
      "metadata": {
        "id": "jf_OE0OzK5G-"
      },
      "execution_count": null,
      "outputs": []
    },
    {
      "cell_type": "code",
      "source": [
        "# confusion matrix\n",
        "cm = confusion_matrix(y_test, y_pred)\n",
        "print(cm)"
      ],
      "metadata": {
        "colab": {
          "base_uri": "https://localhost:8080/"
        },
        "id": "NTx7hH9oK7G-",
        "outputId": "cc8724dc-1561-4874-f50e-42c244b75b33"
      },
      "execution_count": null,
      "outputs": [
        {
          "output_type": "stream",
          "name": "stdout",
          "text": [
            "[[723   0   5  11  72   6   9   3   0   0   1]\n",
            " [  7   2   1   3   4   0   3   0   0   0   0]\n",
            " [ 24   0  34   8  14   2   0   0   0   0   1]\n",
            " [ 44   2   7 150   9   1   6   0   1   1   2]\n",
            " [152   0   0   8 246   8   1   0   0   0   0]\n",
            " [ 26   0   0   6  11  35   0   0   1   2   0]\n",
            " [ 31   0   0  14   9   6  50   2   0   0   0]\n",
            " [  6   0   0   2   0   0   0 156   2   1   0]\n",
            " [  4   0   0   0   0   0   0   0   6   0   0]\n",
            " [  5   0   0   4   0   1   0   0   0  80   4]\n",
            " [  8   0   0   2   2   0   0   1   0   5  33]]\n"
          ]
        }
      ]
    },
    {
      "cell_type": "code",
      "source": [
        "# accuracy\n",
        "print('Accuracy: ', accuracy_score(y_test, y_pred))\n"
      ],
      "metadata": {
        "colab": {
          "base_uri": "https://localhost:8080/"
        },
        "id": "aKrBFBBAK-33",
        "outputId": "c27842d8-30f6-4e58-ca12-d4d61fa9f5bb"
      },
      "execution_count": null,
      "outputs": [
        {
          "output_type": "stream",
          "name": "stdout",
          "text": [
            "Accuracy:  0.7262703739213806\n"
          ]
        }
      ]
    },
    {
      "cell_type": "code",
      "source": [
        "# classification report\n",
        "print(classification_report(y_test, y_pred))"
      ],
      "metadata": {
        "colab": {
          "base_uri": "https://localhost:8080/"
        },
        "id": "f7LJt5MILCi3",
        "outputId": "443f6d8f-436d-4d30-c09f-0d95d367f268"
      },
      "execution_count": null,
      "outputs": [
        {
          "output_type": "stream",
          "name": "stdout",
          "text": [
            "              precision    recall  f1-score   support\n",
            "\n",
            "           A       0.70      0.87      0.78       830\n",
            "           C       0.50      0.10      0.17        20\n",
            "           D       0.72      0.41      0.52        83\n",
            "           E       0.72      0.67      0.70       223\n",
            "           F       0.67      0.59      0.63       415\n",
            "           G       0.59      0.43      0.50        81\n",
            "           H       0.72      0.45      0.55       112\n",
            "           I       0.96      0.93      0.95       167\n",
            "           W       0.60      0.60      0.60        10\n",
            "           X       0.90      0.85      0.87        94\n",
            "           Y       0.80      0.65      0.72        51\n",
            "\n",
            "    accuracy                           0.73      2086\n",
            "   macro avg       0.72      0.60      0.63      2086\n",
            "weighted avg       0.73      0.73      0.72      2086\n",
            "\n"
          ]
        }
      ]
    },
    {
      "cell_type": "code",
      "source": [
        "# plot\n",
        "plt.plot(y_test, y_pred, 'ro')\n",
        "plt.show()\n"
      ],
      "metadata": {
        "colab": {
          "base_uri": "https://localhost:8080/",
          "height": 265
        },
        "id": "H2qUSScBLG_2",
        "outputId": "6490b97b-820e-44f0-fcef-f5d297359b7f"
      },
      "execution_count": null,
      "outputs": [
        {
          "output_type": "display_data",
          "data": {
            "text/plain": [
              "<Figure size 432x288 with 1 Axes>"
            ],
            "image/png": "[encoded data removed]"
          },
          "metadata": {
            "needs_background": "light"
          }
        }
      ]
    },
    {
      "cell_type": "code",
      "source": [
        "# data transform\n",
        "\n",
        "import numpy as np\n",
        "import pandas as pd\n",
        "import matplotlib.pyplot as plt\n",
        "from sklearn.neighbors import KNeighborsClassifier\n",
        "from sklearn.model_selection import train_test_split\n",
        "from sklearn.metrics import confusion_matrix\n",
        "from sklearn.metrics import accuracy_score\n",
        "from sklearn.metrics import classification_report\n",
        "\n",
        "# read data on avila-tr.txt\n",
        "data = pd.read_csv('avila-ts.txt', header=None)\n",
        "\n",
        "# split data\n",
        "X = data.iloc[:, 0:10]\n",
        "y = data.iloc[:, 10]\n",
        "\n",
        "# y deki string değerleri sayısal değerlere çevirme\n",
        "y = y.replace('A', 0)\n",
        "y = y.replace('B', 1)\n",
        "y = y.replace('C', 2)\n",
        "y = y.replace('D', 3)\n",
        "y = y.replace('E', 4)\n",
        "y = y.replace('F', 5)\n",
        "y = y.replace('G', 6)\n",
        "y = y.replace('H', 7)\n",
        "y = y.replace('I', 8)\n",
        "y = y.replace('W', 9)\n",
        "y = y.replace('X', 10)\n",
        "y = y.replace('Y', 11)\n",
        "\n",
        "# y 'yi yeni sutun olarak ekleme\n",
        "X['y'] = y\n",
        "\n",
        "# data'yı kaydetme\n",
        "X.to_csv('avilahhtest-tr.csv', index=False)\n",
        "\n",
        "\n"
      ],
      "metadata": {
        "id": "oJT7P2EUSg5n"
      },
      "execution_count": null,
      "outputs": []
    }
  ]
}